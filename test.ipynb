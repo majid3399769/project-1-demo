{
 "cells": [
  {
   "cell_type": "code",
   "execution_count": null,
   "metadata": {},
   "outputs": [],
   "source": [
    "x = 10 "
   ]
  }
 ],
 "metadata": {
  "kernelspec": {
   "display_name": "PythonData",
   "language": "python",
   "name": "python3"
  },
  "language_info": {
   "name": "python",
   "version": "3.7.7"
  },
  "orig_nbformat": 4,
  "vscode": {
   "interpreter": {
    "hash": "dbb96ceae942ce7ed496dca5da3ae083d05a93941b03eea07675531a3acfbdc0"
   }
  }
 },
 "nbformat": 4,
 "nbformat_minor": 2
}
